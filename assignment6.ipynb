{
 "cells": [
  {
   "cell_type": "raw",
   "id": "5e01e689-4245-47d4-a00a-e0adcf9ac35d",
   "metadata": {},
   "source": [
    "Write a lambda function to calculate the square of a number. Use it to print the square of 8."
   ]
  },
  {
   "cell_type": "code",
   "execution_count": 2,
   "id": "d67fc986-9c04-472f-b3bd-6d17db377c0c",
   "metadata": {},
   "outputs": [
    {
     "name": "stdout",
     "output_type": "stream",
     "text": [
      "64\n"
     ]
    }
   ],
   "source": [
    "x = lambda a : a ** 2\n",
    "print (x(8))"
   ]
  },
  {
   "cell_type": "raw",
   "id": "6b6e9677-1f02-410e-b0ad-fc6006621cb2",
   "metadata": {},
   "source": [
    "Create a lambda function to multiply three arguments. Use it to multiply 3, 4, and 5, then print the result."
   ]
  },
  {
   "cell_type": "code",
   "execution_count": 4,
   "id": "8df3e3e9-813a-41d9-a999-09b0f619994a",
   "metadata": {},
   "outputs": [
    {
     "name": "stdout",
     "output_type": "stream",
     "text": [
      "60\n"
     ]
    }
   ],
   "source": [
    "x = lambda a, b, c : a * b * c\n",
    "print(x(3, 4, 5))"
   ]
  },
  {
   "cell_type": "raw",
   "id": "d753e189-5d58-4349-8b34-6962a3df5845",
   "metadata": {},
   "source": [
    "Write a lambda function to find the maximum of two numbers. Use it to find the maximum between 10 and 20 and print the result."
   ]
  },
  {
   "cell_type": "code",
   "execution_count": 8,
   "id": "371bb658-8914-47c5-9e21-6222b2774205",
   "metadata": {},
   "outputs": [
    {
     "name": "stdout",
     "output_type": "stream",
     "text": [
      "20\n"
     ]
    }
   ],
   "source": [
    "maximum = lambda a, b : a if a > b else b\n",
    "result = maximum(10, 20)\n",
    "print(result)"
   ]
  },
  {
   "cell_type": "raw",
   "id": "5fad6827-2ec6-4a52-9b02-ca85c85abdcc",
   "metadata": {},
   "source": [
    " Create a list of integers and use a lambda function with the filter method to filter out even numbers. Print the resulting list"
   ]
  },
  {
   "cell_type": "code",
   "execution_count": 9,
   "id": "9c8f4995-db95-43e1-ae6b-b9683ab4cafd",
   "metadata": {},
   "outputs": [
    {
     "name": "stdout",
     "output_type": "stream",
     "text": [
      "[2, 4, 6, 8, 10, 12]\n"
     ]
    }
   ],
   "source": [
    "numbers = [1, 2, 3, 4, 5, 6, 7, 8, 9, 10, 11, 12]\n",
    "even = list(filter(lambda x : x % 2 == 0, numbers))\n",
    "print(even)"
   ]
  },
  {
   "cell_type": "raw",
   "id": "e80fa3f7-9e19-42d0-8345-cd27d537d074",
   "metadata": {},
   "source": [
    "Create a class named Animal with an __init__ method that initializes species and name. Instantiate an object of this class with species \"Dog\" and name \"Buddy\", then print the species and home"
   ]
  },
  {
   "cell_type": "code",
   "execution_count": 4,
   "id": "a9661c9d-f00f-410b-b009-5eb2faa3c53d",
   "metadata": {},
   "outputs": [
    {
     "name": "stdout",
     "output_type": "stream",
     "text": [
      "Home: earth\n",
      "species: Dog\n"
     ]
    }
   ],
   "source": [
    "class Animal:\n",
    "    def __init__(self, name, species):\n",
    "        self.name = name\n",
    "        self.species = species\n",
    "        self.home = \"earth\"\n",
    "\n",
    "pet = Animal(\"Buddy\", \"Dog\")\n",
    "print(\"Home:\", pet.home)\n",
    "print(\"species:\" ,pet.species)"
   ]
  },
  {
   "cell_type": "code",
   "execution_count": 8,
   "id": "b6575e62-d20a-4b20-88a1-a8594ef86137",
   "metadata": {},
   "outputs": [
    {
     "name": "stdout",
     "output_type": "stream",
     "text": [
      "Species: Dog\n",
      "Home: Earth\n"
     ]
    }
   ],
   "source": [
    "class Animal:\n",
    "    def __init__(self, species, name):\n",
    "        self.species = species\n",
    "        self.name = name\n",
    "        self.home = \"Earth\"  # default home for simplicity\n",
    "\n",
    "# Instantiate an Animal object\n",
    "my_pet = Animal(\"Dog\", \"Buddy\")\n",
    "\n",
    "# Print species and home\n",
    "print(\"Species:\", my_pet.species)\n",
    "print(\"Home:\", my_pet.home)\n"
   ]
  },
  {
   "cell_type": "raw",
   "id": "72625a05-6cbe-41db-b437-3a853c67c550",
   "metadata": {},
   "source": [
    " Create a class named Car with attributes for brand, model, and year. Add a method car_info that prints a formatted string with this information. Create an instance of the Car class and call the car_info method."
   ]
  },
  {
   "cell_type": "code",
   "execution_count": 13,
   "id": "16574344-d705-4be4-98a8-eba49cfb1a69",
   "metadata": {},
   "outputs": [
    {
     "name": "stdout",
     "output_type": "stream",
     "text": [
      "2025 Mahindra Scorpio\n"
     ]
    }
   ],
   "source": [
    "class car:\n",
    "    def __init__(self, brand, model, year):\n",
    "        self.brand = brand\n",
    "        self.model = model\n",
    "        self.year = year\n",
    "        \n",
    "    def car_info(self):\n",
    "            print(f\"{self.year} {self.brand} {self.model}\")\n",
    "my_car = car(\"Mahindra\", \"Scorpio\", 2025)\n",
    "my_car.car_info()\n",
    "            "
   ]
  },
  {
   "cell_type": "code",
   "execution_count": 11,
   "id": "6f2aed1b-674b-48e1-a32c-3e5202762ed5",
   "metadata": {},
   "outputs": [
    {
     "name": "stdout",
     "output_type": "stream",
     "text": [
      "2022 Toyota Camry\n"
     ]
    }
   ],
   "source": [
    "class Car:\n",
    "    def __init__(self, brand, model, year):\n",
    "        self.brand = brand\n",
    "        self.model = model\n",
    "        self.year = year\n",
    "\n",
    "    def car_info(self):\n",
    "        print(f\"{self.year} {self.brand} {self.model}\")\n",
    "\n",
    "# Create an instance of the Car class\n",
    "my_car = Car(\"Toyota\", \"Camry\", 2022)\n",
    "\n",
    "# Call the car_info method\n",
    "my_car.car_info()\n"
   ]
  },
  {
   "cell_type": "raw",
   "id": "af2e2bd5-6a38-491d-a6bd-f07220d1c975",
   "metadata": {},
   "source": [
    " Create a class named Person with an __init__ method and a method introduce that prints a greeting including the person's name. Instantiate an object with the name \"Alice\" and call the introduce method."
   ]
  },
  {
   "cell_type": "code",
   "execution_count": 8,
   "id": "97b2a6f6-049e-4be4-8a1c-e3d803a3cb3d",
   "metadata": {},
   "outputs": [
    {
     "name": "stdout",
     "output_type": "stream",
     "text": [
      "Hello! My name is Alice.\n"
     ]
    }
   ],
   "source": [
    "class Person:\n",
    "    def __init__(self, name):\n",
    "        self.name = name\n",
    "\n",
    "    def introduce(self):\n",
    "        print(f\"Hello! My name is {self.name}.\")\n",
    "\n",
    "# Create an instance of Person with the name \"Alice\"\n",
    "person1 = Person(\"Alice\")\n",
    "\n",
    "# Call the introduce method\n",
    "person1.introduce()\n"
   ]
  },
  {
   "cell_type": "raw",
   "id": "2dacda3f-bd14-4b10-9e7e-c77ee0f96c77",
   "metadata": {},
   "source": [
    "Create a class named Student with attributes for name and grades (a list of grades). Add a method average_grade that returns the average of the grades. Create an instance of the Student class, add some grades, and print the average grade."
   ]
  },
  {
   "cell_type": "code",
   "execution_count": 1,
   "id": "850ce6ec-99bf-4a6e-9f33-e6f823f27deb",
   "metadata": {},
   "outputs": [
    {
     "name": "stdout",
     "output_type": "stream",
     "text": [
      "Alice's average grade is: 84.33\n"
     ]
    }
   ],
   "source": [
    "class Student:\n",
    "    def __init__(self, name):\n",
    "        self.name = name\n",
    "        self.grades = []  # Initialize with an empty list of grades\n",
    "\n",
    "    def add_grade(self, grade):\n",
    "        self.grades.append(grade)\n",
    "\n",
    "    def average_grade(self):\n",
    "        if self.grades:\n",
    "            return sum(self.grades) / len(self.grades)\n",
    "        else:\n",
    "            return 0  # Handle case with no grades\n",
    "\n",
    "# Create a Student instance\n",
    "student1 = Student(\"Alice\")\n",
    "\n",
    "# Add some grades\n",
    "student1.add_grade(85)\n",
    "student1.add_grade(90)\n",
    "student1.add_grade(78)\n",
    "\n",
    "# Print the average grade\n",
    "print(f\"{student1.name}'s average grade is: {student1.average_grade():.2f}\")\n"
   ]
  },
  {
   "cell_type": "raw",
   "id": "dbbf6936-f895-442e-94e5-685d07ffb1ca",
   "metadata": {},
   "source": [
    " Create a class named Book with attributes for title, author, and year_published. Add a method book_age that calculates how old the book is from the current year. Create an instance of the Book class and print the age of the book."
   ]
  },
  {
   "cell_type": "code",
   "execution_count": 5,
   "id": "5922cd79-6653-4eb7-95e3-9c8d77b4e8c9",
   "metadata": {},
   "outputs": [
    {
     "name": "stdout",
     "output_type": "stream",
     "text": [
      "The book 'The Alchemist' by Paulo Coelho is 37 years old.\n"
     ]
    }
   ],
   "source": [
    "class Book:\n",
    "    def __init__(self, title, author, year_published):\n",
    "        self.title = title\n",
    "        self.author = author\n",
    "        self.year_published = year_published\n",
    "\n",
    "    def book_age(self, current_year=2025):\n",
    "        return current_year - self.year_published\n",
    "\n",
    "# Create an instance of the Book class\n",
    "book1 = Book(\"The Alchemist\", \"Paulo Coelho\", 1988)\n",
    "\n",
    "# Print the age of the book\n",
    "print(f\"The book '{book1.title}' by {book1.author} is {book1.book_age()} years old.\")\n"
   ]
  },
  {
   "cell_type": "raw",
   "id": "16e0cf8c-81d1-462f-9c06-90930debb12e",
   "metadata": {},
   "source": [
    "Write a BankAccount class with attributes for owner and balance. Add methods for deposit and withdraw. Create an instance and perform some deposits and withdrawals, then print the final balance."
   ]
  },
  {
   "cell_type": "code",
   "execution_count": 6,
   "id": "a346d349-348f-4cba-bb2a-e854a959bbf6",
   "metadata": {},
   "outputs": [
    {
     "name": "stdout",
     "output_type": "stream",
     "text": [
      "Deposited ₹1500. New balance: ₹6500\n",
      "Withdrew ₹2000. New balance: ₹4500\n",
      "Insufficient funds for withdrawal.\n",
      "BankAccount for Aditi | Current Balance: ₹4500\n"
     ]
    }
   ],
   "source": [
    "class BankAccount:\n",
    "    def __init__(self, owner, balance=0):\n",
    "        self.owner = owner\n",
    "        self.balance = balance\n",
    "\n",
    "    def deposit(self, amount):\n",
    "        if amount > 0:\n",
    "            self.balance += amount\n",
    "            print(f\"Deposited ₹{amount}. New balance: ₹{self.balance}\")\n",
    "        else:\n",
    "            print(\"Deposit amount must be positive.\")\n",
    "\n",
    "    def withdraw(self, amount):\n",
    "        if amount <= self.balance:\n",
    "            self.balance -= amount\n",
    "            print(f\"Withdrew ₹{amount}. New balance: ₹{self.balance}\")\n",
    "        else:\n",
    "            print(\"Insufficient funds for withdrawal.\")\n",
    "\n",
    "    def __str__(self):\n",
    "        return f\"BankAccount for {self.owner} | Current Balance: ₹{self.balance}\"\n",
    "\n",
    "# Create an account\n",
    "account = BankAccount(\"Aditi\", 5000)\n",
    "\n",
    "# Perform transactions\n",
    "account.deposit(1500)\n",
    "account.withdraw(2000)\n",
    "account.withdraw(6000)  # Will trigger insufficient funds message\n",
    "\n",
    "# Final balance\n",
    "print(account)\n"
   ]
  },
  {
   "cell_type": "raw",
   "id": "b5d4a3c9-fbe3-4156-b686-bc43566b0e85",
   "metadata": {},
   "source": [
    "Create a Calculator class with methods for addition, subtraction, multiplication, and division. Use this class to perform a series of calculations and print the results."
   ]
  },
  {
   "cell_type": "code",
   "execution_count": 1,
   "id": "48ea714c-2f88-4679-8c3d-71f88e097ce7",
   "metadata": {},
   "outputs": [
    {
     "name": "stdout",
     "output_type": "stream",
     "text": [
      "Addition: 15\n",
      "Subtraction: 5\n",
      "Multiplication: 50\n",
      "Division: 2.0\n"
     ]
    }
   ],
   "source": [
    "class Calculator:\n",
    "    def __init__(self):\n",
    "        pass  # No initialization needed here, but ready if you want to expand later!\n",
    "\n",
    "    def add(self, a, b):\n",
    "        return a + b\n",
    "\n",
    "    def subtract(self, a, b):\n",
    "        return a - b\n",
    "\n",
    "    def multiply(self, a, b):\n",
    "        return a * b\n",
    "\n",
    "    def divide(self, a, b):\n",
    "        if b == 0:\n",
    "            return \"Error: Division by zero\"\n",
    "        return a / b\n",
    "\n",
    "# Create an instance of Calculator\n",
    "calc = Calculator()\n",
    "\n",
    "# Perform a series of calculations\n",
    "print(\"Addition:\", calc.add(10, 5))         # 15\n",
    "print(\"Subtraction:\", calc.subtract(10, 5)) # 5\n",
    "print(\"Multiplication:\", calc.multiply(10, 5)) # 50\n",
    "print(\"Division:\", calc.divide(10, 5))      # 2.0\n"
   ]
  },
  {
   "cell_type": "code",
   "execution_count": null,
   "id": "add53abf-d28d-498d-8aa9-e8493c51a79f",
   "metadata": {},
   "outputs": [],
   "source": []
  }
 ],
 "metadata": {
  "kernelspec": {
   "display_name": "Python 3 (ipykernel)",
   "language": "python",
   "name": "python3"
  },
  "language_info": {
   "codemirror_mode": {
    "name": "ipython",
    "version": 3
   },
   "file_extension": ".py",
   "mimetype": "text/x-python",
   "name": "python",
   "nbconvert_exporter": "python",
   "pygments_lexer": "ipython3",
   "version": "3.12.7"
  }
 },
 "nbformat": 4,
 "nbformat_minor": 5
}
