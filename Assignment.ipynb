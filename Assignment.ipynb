{
 "cells": [
  {
   "cell_type": "code",
   "execution_count": 1,
   "id": "ca428edb-0713-4446-a890-ad0e4609f04d",
   "metadata": {},
   "outputs": [],
   "source": [
    "a = 5"
   ]
  },
  {
   "cell_type": "code",
   "execution_count": 2,
   "id": "951abe8f-016f-4681-a845-cdc4542d198d",
   "metadata": {},
   "outputs": [
    {
     "data": {
      "text/plain": [
       "5"
      ]
     },
     "execution_count": 2,
     "metadata": {},
     "output_type": "execute_result"
    }
   ],
   "source": [
    "a"
   ]
  },
  {
   "cell_type": "code",
   "execution_count": 3,
   "id": "c35a1a96-4d28-4b14-ad74-4b034a16b598",
   "metadata": {},
   "outputs": [],
   "source": [
    "BankBalannce = 10000"
   ]
  },
  {
   "cell_type": "code",
   "execution_count": 4,
   "id": "b09afbfb-f47e-49c7-87c1-848a35da5679",
   "metadata": {},
   "outputs": [
    {
     "data": {
      "text/plain": [
       "10000"
      ]
     },
     "execution_count": 4,
     "metadata": {},
     "output_type": "execute_result"
    }
   ],
   "source": [
    "BankBalannce"
   ]
  },
  {
   "cell_type": "code",
   "execution_count": 7,
   "id": "dbffc91e-c69e-4039-af44-8d4f94d83b15",
   "metadata": {},
   "outputs": [],
   "source": [
    "test_marks = 20"
   ]
  },
  {
   "cell_type": "code",
   "execution_count": 8,
   "id": "41073847-a833-4535-a27f-4c7a7930a6c6",
   "metadata": {},
   "outputs": [
    {
     "data": {
      "text/plain": [
       "20"
      ]
     },
     "execution_count": 8,
     "metadata": {},
     "output_type": "execute_result"
    }
   ],
   "source": [
    "test_marks"
   ]
  },
  {
   "cell_type": "code",
   "execution_count": 9,
   "id": "4d8f9684-f367-4915-af0a-24f5ee0b93b7",
   "metadata": {},
   "outputs": [],
   "source": [
    "total_sub = 36"
   ]
  },
  {
   "cell_type": "code",
   "execution_count": 10,
   "id": "7c6d2c50-7720-405a-b9bd-491a61a8a880",
   "metadata": {},
   "outputs": [
    {
     "data": {
      "text/plain": [
       "36"
      ]
     },
     "execution_count": 10,
     "metadata": {},
     "output_type": "execute_result"
    }
   ],
   "source": [
    "total_sub"
   ]
  },
  {
   "cell_type": "code",
   "execution_count": 11,
   "id": "00c7b1c7-a230-498f-a55f-0bcf43375409",
   "metadata": {},
   "outputs": [],
   "source": [
    "Djset_price = 250000"
   ]
  },
  {
   "cell_type": "code",
   "execution_count": 12,
   "id": "13e2ce6d-107b-41f8-a555-2b7764731cdb",
   "metadata": {},
   "outputs": [
    {
     "data": {
      "text/plain": [
       "250000"
      ]
     },
     "execution_count": 12,
     "metadata": {},
     "output_type": "execute_result"
    }
   ],
   "source": [
    "Djset_price"
   ]
  },
  {
   "cell_type": "code",
   "execution_count": null,
   "id": "533d5dc2-5d4e-46a5-aeae-a97f5b235764",
   "metadata": {},
   "outputs": [],
   "source": []
  }
 ],
 "metadata": {
  "kernelspec": {
   "display_name": "Python 3 (ipykernel)",
   "language": "python",
   "name": "python3"
  },
  "language_info": {
   "codemirror_mode": {
    "name": "ipython",
    "version": 3
   },
   "file_extension": ".py",
   "mimetype": "text/x-python",
   "name": "python",
   "nbconvert_exporter": "python",
   "pygments_lexer": "ipython3",
   "version": "3.12.7"
  }
 },
 "nbformat": 4,
 "nbformat_minor": 5
}
