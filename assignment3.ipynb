{
 "cells": [
  {
   "cell_type": "markdown",
   "id": "9119a833-2d08-441b-b786-022d8da0feaa",
   "metadata": {},
   "source": [
    "List and demonstrate the use of the following arithmetic operators in Python: Addition, Subtraction, Multiplication, Division, Modulus, Exponentiation, Floor Division."
   ]
  },
  {
   "cell_type": "code",
   "execution_count": 1,
   "id": "56fa9864-0b9a-45e0-a5ac-82c7af063e22",
   "metadata": {},
   "outputs": [
    {
     "data": {
      "text/plain": [
       "5"
      ]
     },
     "execution_count": 1,
     "metadata": {},
     "output_type": "execute_result"
    }
   ],
   "source": [
    "3+2"
   ]
  },
  {
   "cell_type": "code",
   "execution_count": 2,
   "id": "81fdd388-1887-4a38-947e-5dad84e28bad",
   "metadata": {},
   "outputs": [
    {
     "data": {
      "text/plain": [
       "4"
      ]
     },
     "execution_count": 2,
     "metadata": {},
     "output_type": "execute_result"
    }
   ],
   "source": [
    "7-3"
   ]
  },
  {
   "cell_type": "code",
   "execution_count": 3,
   "id": "af0b3e49-4db6-48d6-87d5-b20e83bae859",
   "metadata": {},
   "outputs": [
    {
     "data": {
      "text/plain": [
       "20"
      ]
     },
     "execution_count": 3,
     "metadata": {},
     "output_type": "execute_result"
    }
   ],
   "source": [
    "5*4"
   ]
  },
  {
   "cell_type": "code",
   "execution_count": 4,
   "id": "69f261ee-13b1-4c71-8d6f-760c229c41e9",
   "metadata": {},
   "outputs": [
    {
     "data": {
      "text/plain": [
       "5.0"
      ]
     },
     "execution_count": 4,
     "metadata": {},
     "output_type": "execute_result"
    }
   ],
   "source": [
    "25/5"
   ]
  },
  {
   "cell_type": "code",
   "execution_count": 5,
   "id": "eccc899b-0f26-460c-b271-bf7bfc5e4344",
   "metadata": {},
   "outputs": [
    {
     "data": {
      "text/plain": [
       "0"
      ]
     },
     "execution_count": 5,
     "metadata": {},
     "output_type": "execute_result"
    }
   ],
   "source": [
    "25%5"
   ]
  },
  {
   "cell_type": "code",
   "execution_count": 11,
   "id": "39a13d1d-9923-403a-babf-d6b1a0733a41",
   "metadata": {},
   "outputs": [
    {
     "data": {
      "text/plain": [
       "64"
      ]
     },
     "execution_count": 11,
     "metadata": {},
     "output_type": "execute_result"
    }
   ],
   "source": [
    "4**3"
   ]
  },
  {
   "cell_type": "code",
   "execution_count": 16,
   "id": "0843b716-0075-43ed-b3ae-5d2aad39dbed",
   "metadata": {},
   "outputs": [
    {
     "data": {
      "text/plain": [
       "20"
      ]
     },
     "execution_count": 16,
     "metadata": {},
     "output_type": "execute_result"
    }
   ],
   "source": [
    "60//3"
   ]
  },
  {
   "cell_type": "markdown",
   "id": "df1b571b-074a-4918-ab68-527a412f61ee",
   "metadata": {},
   "source": [
    "Write Python expressions using comparison operators (less than, greater than, equal to, not equal to) and evaluate them. Include examples with both numbers and strings."
   ]
  },
  {
   "cell_type": "code",
   "execution_count": 17,
   "id": "0894f717-a150-408d-85b6-98248beca483",
   "metadata": {},
   "outputs": [
    {
     "data": {
      "text/plain": [
       "True"
      ]
     },
     "execution_count": 17,
     "metadata": {},
     "output_type": "execute_result"
    }
   ],
   "source": [
    "5<6"
   ]
  },
  {
   "cell_type": "code",
   "execution_count": 18,
   "id": "9e22ce51-277f-47ce-8588-9b615c401cc3",
   "metadata": {},
   "outputs": [
    {
     "data": {
      "text/plain": [
       "True"
      ]
     },
     "execution_count": 18,
     "metadata": {},
     "output_type": "execute_result"
    }
   ],
   "source": [
    "7>6"
   ]
  },
  {
   "cell_type": "code",
   "execution_count": 20,
   "id": "d3eb49c0-2aee-4f04-a676-8a9573a53858",
   "metadata": {},
   "outputs": [
    {
     "data": {
      "text/plain": [
       "True"
      ]
     },
     "execution_count": 20,
     "metadata": {},
     "output_type": "execute_result"
    }
   ],
   "source": [
    "9==9"
   ]
  },
  {
   "cell_type": "code",
   "execution_count": 21,
   "id": "298a5a10-b8a6-4d2e-a15c-c0180f77f094",
   "metadata": {},
   "outputs": [
    {
     "data": {
      "text/plain": [
       "False"
      ]
     },
     "execution_count": 21,
     "metadata": {},
     "output_type": "execute_result"
    }
   ],
   "source": [
    "7!=7"
   ]
  },
  {
   "cell_type": "code",
   "execution_count": 22,
   "id": "26e38e9d-d1cd-489c-9b7a-b28531417869",
   "metadata": {},
   "outputs": [
    {
     "data": {
      "text/plain": [
       "True"
      ]
     },
     "execution_count": 22,
     "metadata": {},
     "output_type": "execute_result"
    }
   ],
   "source": [
    "\"shashank\" == \"shashank\""
   ]
  },
  {
   "cell_type": "markdown",
   "id": "cdf620b0-9370-48c1-aeaf-4f7b8d56cce0",
   "metadata": {},
   "source": [
    "Create a string variable and use the in and not in keywords to check for the presence or absence of a substring within the string. Print the results."
   ]
  },
  {
   "cell_type": "code",
   "execution_count": 26,
   "id": "28c456a4-4eff-4009-ab92-833e820422d7",
   "metadata": {},
   "outputs": [],
   "source": [
    "name = \"my name is shashank suraj thorat\""
   ]
  },
  {
   "cell_type": "code",
   "execution_count": 27,
   "id": "c6533baf-e100-4a71-9980-05b7e6344b0f",
   "metadata": {},
   "outputs": [
    {
     "name": "stdout",
     "output_type": "stream",
     "text": [
      "True\n"
     ]
    }
   ],
   "source": [
    "print(\"is\" in name)"
   ]
  },
  {
   "cell_type": "code",
   "execution_count": 29,
   "id": "7421d463-16ad-4b57-9300-443431db5310",
   "metadata": {},
   "outputs": [
    {
     "name": "stdout",
     "output_type": "stream",
     "text": [
      "False\n"
     ]
    }
   ],
   "source": [
    "print(\"thorat\" not in name)"
   ]
  },
  {
   "cell_type": "code",
   "execution_count": null,
   "id": "593204b4-1015-4ce4-967a-3471874fb6dc",
   "metadata": {},
   "outputs": [],
   "source": [
    "Define a list with at least three elements. Use a for loop to print each element of the list."
   ]
  },
  {
   "cell_type": "code",
   "execution_count": 40,
   "id": "f8047709-66cc-4622-9bda-5823fe9ffb68",
   "metadata": {},
   "outputs": [],
   "source": [
    "fruits = [\"banana\", \"apple\", \"grapes\"]"
   ]
  },
  {
   "cell_type": "code",
   "execution_count": 42,
   "id": "33db560b-8851-47f8-905f-982c7731710a",
   "metadata": {},
   "outputs": [
    {
     "name": "stdout",
     "output_type": "stream",
     "text": [
      "banana\n",
      "apple\n",
      "grapes\n"
     ]
    }
   ],
   "source": [
    "for i in fruits:\n",
    "    print(i)"
   ]
  },
  {
   "cell_type": "markdown",
   "id": "64cfdd10-ff0a-4d3a-8cf2-8798ec0b0092",
   "metadata": {},
   "source": [
    "Use the range() function to print numbers from 1 to 10 using a for loop."
   ]
  },
  {
   "cell_type": "code",
   "execution_count": 4,
   "id": "7d23bb93-52be-4695-91fb-d60a3f3746f5",
   "metadata": {},
   "outputs": [
    {
     "name": "stdout",
     "output_type": "stream",
     "text": [
      "1\n",
      "2\n",
      "3\n",
      "4\n",
      "5\n",
      "6\n",
      "7\n",
      "8\n",
      "9\n",
      "10\n"
     ]
    }
   ],
   "source": [
    "for i in range(1, 11):\n",
    "    print(i)"
   ]
  },
  {
   "cell_type": "code",
   "execution_count": 6,
   "id": "030ed83a-e8de-468e-99ae-6eaafb4cd2f2",
   "metadata": {},
   "outputs": [],
   "source": [
    "r = range(1, 11)"
   ]
  },
  {
   "cell_type": "code",
   "execution_count": 7,
   "id": "3f9f0504-d3e4-497a-b461-8af9968e73f5",
   "metadata": {},
   "outputs": [
    {
     "name": "stdout",
     "output_type": "stream",
     "text": [
      "[1, 2, 3, 4, 5, 6, 7, 8, 9, 10]\n"
     ]
    }
   ],
   "source": [
    "print(list(r))"
   ]
  },
  {
   "cell_type": "markdown",
   "id": "f0f0d121-f4ae-41fc-8bd0-821a2efe97e2",
   "metadata": {},
   "source": [
    "Create a string variable and demonstrate the following string methods: slicing, negative indexing, converting to uppercase, converting to lowercase, stripping whitespace, replacing a substring, and splitting the string."
   ]
  },
  {
   "cell_type": "code",
   "execution_count": 10,
   "id": "b51f84df-416a-4470-be62-f56d91c57eea",
   "metadata": {},
   "outputs": [],
   "source": [
    "a = \"Myself, Shashank\""
   ]
  },
  {
   "cell_type": "code",
   "execution_count": 12,
   "id": "8b25eb22-4835-4230-a246-515d236b8619",
   "metadata": {},
   "outputs": [
    {
     "name": "stdout",
     "output_type": "stream",
     "text": [
      "self, S\n"
     ]
    }
   ],
   "source": [
    "print(a[2:9])"
   ]
  },
  {
   "cell_type": "code",
   "execution_count": 25,
   "id": "fa5eb936-05bc-45ae-bce6-85018f8f83c0",
   "metadata": {},
   "outputs": [
    {
     "name": "stdout",
     "output_type": "stream",
     "text": [
      "f, Shashan\n"
     ]
    }
   ],
   "source": [
    "print(a[-11:-1])"
   ]
  },
  {
   "cell_type": "code",
   "execution_count": 26,
   "id": "204b7e84-9a34-4d51-804a-2b93a6db47f0",
   "metadata": {},
   "outputs": [
    {
     "name": "stdout",
     "output_type": "stream",
     "text": [
      "MYSELF, SHASHANK\n"
     ]
    }
   ],
   "source": [
    "print(a.upper())"
   ]
  },
  {
   "cell_type": "code",
   "execution_count": 27,
   "id": "65e6b4e7-d9f6-4488-bdfc-5b232de6d253",
   "metadata": {},
   "outputs": [
    {
     "name": "stdout",
     "output_type": "stream",
     "text": [
      "myself, shashank\n"
     ]
    }
   ],
   "source": [
    "print(a.lower())"
   ]
  },
  {
   "cell_type": "code",
   "execution_count": 28,
   "id": "2c2513f3-1da7-491a-8cde-a180fa5c0655",
   "metadata": {},
   "outputs": [],
   "source": [
    "b = \"      shashank thorat              \""
   ]
  },
  {
   "cell_type": "code",
   "execution_count": 29,
   "id": "8c292da6-e467-4639-8eb8-419c9914d64c",
   "metadata": {},
   "outputs": [
    {
     "name": "stdout",
     "output_type": "stream",
     "text": [
      "shashank thorat\n"
     ]
    }
   ],
   "source": [
    "print(b.strip())"
   ]
  },
  {
   "cell_type": "code",
   "execution_count": null,
   "id": "2a3443b1-811c-4a65-88c2-28a8a2e16089",
   "metadata": {},
   "outputs": [],
   "source": []
  },
  {
   "cell_type": "code",
   "execution_count": 32,
   "id": "3c1e82a4-7154-4947-b078-2717ea9d59a6",
   "metadata": {},
   "outputs": [
    {
     "name": "stdout",
     "output_type": "stream",
     "text": [
      "Myself, Phashank\n"
     ]
    }
   ],
   "source": [
    "print(a.replace(\"S\", \"P\"))"
   ]
  },
  {
   "cell_type": "code",
   "execution_count": 39,
   "id": "57d7b030-f085-4a23-b5bd-bfd6b3b5e6b3",
   "metadata": {},
   "outputs": [
    {
     "name": "stdout",
     "output_type": "stream",
     "text": [
      "['shashank', ' ranjana', ' suraj', ' thorat', ' siddhant']\n"
     ]
    }
   ],
   "source": [
    "s = \"shashank, ranjana, suraj, thorat, siddhant\"\n",
    "print(s.split(\",\"))"
   ]
  },
  {
   "cell_type": "markdown",
   "id": "4e9e9a61-956a-4175-b87f-88dfc01f0bb4",
   "metadata": {},
   "source": [
    "Create a list with at least five elements of different data types. Print the list."
   ]
  },
  {
   "cell_type": "code",
   "execution_count": 41,
   "id": "3118e138-13ed-4140-8280-b489ddbc4041",
   "metadata": {},
   "outputs": [
    {
     "name": "stdout",
     "output_type": "stream",
     "text": [
      "['abc', 34, True, 40, 'male']\n"
     ]
    }
   ],
   "source": [
    "list = [\"abc\", 34, True, 40, \"male\"]\n",
    "print(list)"
   ]
  },
  {
   "cell_type": "markdown",
   "id": "e39cf466-4a81-4cf9-8dae-d9fe2482e1c7",
   "metadata": {},
   "source": [
    "Access and print an item from the list using both positive and negative indexing."
   ]
  },
  {
   "cell_type": "code",
   "execution_count": 42,
   "id": "dada8f5f-3b25-4e00-90b1-97d527c43892",
   "metadata": {},
   "outputs": [
    {
     "name": "stdout",
     "output_type": "stream",
     "text": [
      "lf, Shashan\n"
     ]
    }
   ],
   "source": [
    "a = \"Myself, Shashank\"\n",
    "print(a[4:-1])"
   ]
  },
  {
   "cell_type": "markdown",
   "id": "49472f9c-2559-462b-8266-919fc2ab9618",
   "metadata": {},
   "source": [
    "Modify elements of a list by using the append(), insert(), remove(), pop(), and del methods. Print the list after each operation."
   ]
  },
  {
   "cell_type": "code",
   "execution_count": 43,
   "id": "45f8375c-7cb9-4a05-b19d-8be7012d48e0",
   "metadata": {},
   "outputs": [
    {
     "name": "stdout",
     "output_type": "stream",
     "text": [
      "['fan', 'cooler', 'ac', 'thunder', 'refrigerator']\n"
     ]
    }
   ],
   "source": [
    "mylist = [\"fan\", \"cooler\", \"ac\", \"thunder\"]\n",
    "mylist.append(\"refrigerator\")\n",
    "print(mylist)"
   ]
  },
  {
   "cell_type": "code",
   "execution_count": 45,
   "id": "e44c97b6-d64e-43c8-9734-179b0b0f4309",
   "metadata": {},
   "outputs": [
    {
     "name": "stdout",
     "output_type": "stream",
     "text": [
      "['fan', 'orange', 'cooler', 'ac', 'thunder', 'refrigerator']\n"
     ]
    }
   ],
   "source": [
    "mylist.insert(1, \"orange\")\n",
    "print(mylist)"
   ]
  },
  {
   "cell_type": "code",
   "execution_count": 47,
   "id": "d8d682e5-e234-41f9-8e2a-008ddb93496d",
   "metadata": {},
   "outputs": [
    {
     "name": "stdout",
     "output_type": "stream",
     "text": [
      "['orange', 'cooler', 'ac', 'thunder', 'refrigerator']\n"
     ]
    }
   ],
   "source": [
    "mylist.remove(\"fan\")\n",
    "print(mylist)"
   ]
  },
  {
   "cell_type": "code",
   "execution_count": 48,
   "id": "9c09840c-da0e-4a12-bcfb-30bac5be2f57",
   "metadata": {},
   "outputs": [
    {
     "name": "stdout",
     "output_type": "stream",
     "text": [
      "['fan', 'cooler', 'thunder']\n"
     ]
    }
   ],
   "source": [
    "mylist = [\"fan\", \"cooler\", \"ac\", \"thunder\"]\n",
    "mylist.pop(2)\n",
    "print(mylist)"
   ]
  },
  {
   "cell_type": "code",
   "execution_count": 52,
   "id": "3d75a5d0-44f2-4b06-ba17-6544abb0229e",
   "metadata": {},
   "outputs": [
    {
     "name": "stdout",
     "output_type": "stream",
     "text": [
      "['fan', 'ac', 'thunder']\n"
     ]
    }
   ],
   "source": [
    "mylist = [\"fan\", \"cooler\", \"ac\", \"thunder\"]\n",
    "del mylist[1]\n",
    "print(mylist)"
   ]
  },
  {
   "cell_type": "code",
   "execution_count": 53,
   "id": "f5431653-f842-4d8e-8874-868df26b6cba",
   "metadata": {},
   "outputs": [],
   "source": [
    "mylist = [\"fan\", \"cooler\", \"ac\", \"thunder\"]\n",
    "del mylist"
   ]
  },
  {
   "cell_type": "markdown",
   "id": "90df6838-ba5a-4800-bfff-a34b76822a51",
   "metadata": {},
   "source": [
    "Join two lists and print the result"
   ]
  },
  {
   "cell_type": "code",
   "execution_count": 54,
   "id": "afd65181-52df-4b9d-956c-efbf2b61884a",
   "metadata": {},
   "outputs": [
    {
     "name": "stdout",
     "output_type": "stream",
     "text": [
      "['a', 'b', 'c', 1, 2, 3]\n"
     ]
    }
   ],
   "source": [
    "list1 = [\"a\", \"b\", \"c\"]\n",
    "list2 = [1, 2, 3]\n",
    "\n",
    "list3 = list1 + list2\n",
    "print(list3)"
   ]
  },
  {
   "cell_type": "code",
   "execution_count": null,
   "id": "7564b1c7-c98d-4b01-a8fc-66dbe363f951",
   "metadata": {},
   "outputs": [],
   "source": []
  },
  {
   "cell_type": "code",
   "execution_count": null,
   "id": "d09903ff-900a-4e00-845a-e942922bbff9",
   "metadata": {},
   "outputs": [],
   "source": []
  },
  {
   "cell_type": "code",
   "execution_count": null,
   "id": "d3e5afdc-0cc2-46cd-9244-26dfe64793a3",
   "metadata": {},
   "outputs": [],
   "source": []
  },
  {
   "cell_type": "code",
   "execution_count": null,
   "id": "e88e7376-7887-4f53-946a-63788cd13329",
   "metadata": {},
   "outputs": [],
   "source": []
  },
  {
   "cell_type": "code",
   "execution_count": null,
   "id": "7352ffef-2e4b-49e7-9248-6715124fdd71",
   "metadata": {},
   "outputs": [],
   "source": []
  }
 ],
 "metadata": {
  "kernelspec": {
   "display_name": "Python 3 (ipykernel)",
   "language": "python",
   "name": "python3"
  },
  "language_info": {
   "codemirror_mode": {
    "name": "ipython",
    "version": 3
   },
   "file_extension": ".py",
   "mimetype": "text/x-python",
   "name": "python",
   "nbconvert_exporter": "python",
   "pygments_lexer": "ipython3",
   "version": "3.12.7"
  }
 },
 "nbformat": 4,
 "nbformat_minor": 5
}
