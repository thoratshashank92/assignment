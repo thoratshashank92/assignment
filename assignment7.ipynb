{
 "cells": [
  {
   "cell_type": "raw",
   "id": "8b46f5a3-701c-447b-8430-cb361f5fe878",
   "metadata": {},
   "source": [
    "Create a base class `Animal` with attributes `name` and `species`, and a method `describe` to print them. Create a derived class `Dog` with an additional attribute `breed` and a method `bark` to print \"Woof! Woof!\". Instantiate a `Dog` object and call its methods."
   ]
  },
  {
   "cell_type": "code",
   "execution_count": 2,
   "id": "afb91211-45d4-412d-9d13-d3238ab87e2b",
   "metadata": {},
   "outputs": [
    {
     "name": "stdout",
     "output_type": "stream",
     "text": [
      "Buddy Cannie\n",
      "woof! woof!\n"
     ]
    }
   ],
   "source": [
    "class Animal:\n",
    "    def __init__(self, name, species):\n",
    "        self.name = name\n",
    "        self.species = species\n",
    "\n",
    "    def describe(self):\n",
    "        print(self.name, self.species)\n",
    "\n",
    "class Dog(Animal):\n",
    "    def __init__(self, name, species, breed):\n",
    "        super().__init__(name, species)\n",
    "        self.breed = breed\n",
    "\n",
    "    def bark(self):\n",
    "        print(\"woof! woof!\")\n",
    "\n",
    "my_dog = Dog(\"Buddy\", \"Cannie\", \"Golden Retriever\")\n",
    "\n",
    "my_dog.describe()\n",
    "my_dog.bark()"
   ]
  },
  {
   "cell_type": "raw",
   "id": "a51ebf80-418b-4e48-bebb-9b9d0acbb001",
   "metadata": {},
   "source": [
    "Define a class `Person` with attributes `first_name` and `last_name`, and a method `print_name`. Create a derived class `Employee` with an additional attribute `employee_id`. Use the `super()` method to initialize the inherited attributes. Add a method `print_employee_info`. Instantiate an `Employee` object and call its methods."
   ]
  },
  {
   "cell_type": "code",
   "execution_count": 7,
   "id": "512f758e-2f09-4b9e-99db-a5e95b3d77a0",
   "metadata": {},
   "outputs": [
    {
     "name": "stdout",
     "output_type": "stream",
     "text": [
      "Name: Shashank Thorat\n",
      "Employee ID: E1024\n"
     ]
    }
   ],
   "source": [
    "# Base class\n",
    "class Person:\n",
    "    def __init__(self, first_name, last_name):\n",
    "        self.first_name = first_name\n",
    "        self.last_name = last_name\n",
    "\n",
    "    def print_name(self):\n",
    "        print(\"Name:\", self.first_name, self.last_name)\n",
    "\n",
    "# Derived class\n",
    "class Employee(Person):\n",
    "    def __init__(self, first_name, last_name, employee_id):\n",
    "        super().__init__(first_name, last_name)\n",
    "        self.employee_id = employee_id\n",
    "\n",
    "    def print_employee_info(self):\n",
    "        #self.print_name()\n",
    "        print (\"Employee ID:\",self.employee_id)\n",
    "\n",
    "# Instantiate an Employee object\n",
    "emp = Employee(\"Shashank\", \"Thorat\", \"E1024\")\n",
    "\n",
    "# Call methods\n",
    "emp.print_name()\n",
    "emp.print_employee_info()\n"
   ]
  },
  {
   "cell_type": "raw",
   "id": "060aade6-cfd1-44ea-a5a6-5aa60667beb8",
   "metadata": {},
   "source": [
    "Define a class `Shape` with a method `area` returning 0. Create derived classes `Circle` and `Rectangle`, overriding the `area` method to return the actual area. Instantiate objects of `Circle` and `Rectangle` and print their areas."
   ]
  },
  {
   "cell_type": "code",
   "execution_count": 10,
   "id": "9925234b-f430-4285-9912-7597a23b0029",
   "metadata": {},
   "outputs": [
    {
     "name": "stdout",
     "output_type": "stream",
     "text": [
      "Circle area: 78.53981633974483\n",
      "Rectangle area: 24\n"
     ]
    }
   ],
   "source": [
    "import math\n",
    "\n",
    "# Base class\n",
    "class Shape:\n",
    "    def area(self):\n",
    "        return 0\n",
    "\n",
    "# Derived class for Circle\n",
    "class Circle(Shape):\n",
    "    def __init__(self, radius):\n",
    "        self.radius = radius\n",
    "\n",
    "    def area(self):\n",
    "        return math.pi * self.radius ** 2\n",
    "\n",
    "# Derived class for Rectangle\n",
    "class Rectangle(Shape):\n",
    "    def __init__(self, length, width):\n",
    "        self.length = length\n",
    "        self.width = width\n",
    "\n",
    "    def area(self):\n",
    "        return self.length * self.width\n",
    "\n",
    "# Instantiate objects\n",
    "circle = Circle(5)\n",
    "rectangle = Rectangle(4, 6)\n",
    "\n",
    "# Print areas\n",
    "print(\"Circle area:\", circle.area())\n",
    "print(\"Rectangle area:\", rectangle.area())\n"
   ]
  },
  {
   "cell_type": "raw",
   "id": "49037bb8-34bf-4ad0-a77a-e0af4228cba1",
   "metadata": {},
   "source": [
    "Create base classes `Flying` with a method `fly` and `Swimming` with a method `swim`. Create a derived class `Duck` inheriting from both, with an additional method `quack`. Instantiate a `Duck` object and call all its methods."
   ]
  },
  {
   "cell_type": "code",
   "execution_count": 5,
   "id": "03154734-a727-43c0-bb14-045107a110bf",
   "metadata": {},
   "outputs": [
    {
     "name": "stdout",
     "output_type": "stream",
     "text": [
      "I am flying!\n",
      "I am swimming!\n",
      "Quack! Quack!\n"
     ]
    }
   ],
   "source": [
    "# Base class for flying capability\n",
    "class Flying:\n",
    "    def fly(self):\n",
    "        print(\"I am flying!\")\n",
    "\n",
    "# Base class for swimming capability\n",
    "class Swimming:\n",
    "    def swim(self):\n",
    "        print(\"I am swimming!\")\n",
    "\n",
    "# Derived class that inherits from both Flying and Swimming\n",
    "class Duck(Flying, Swimming):\n",
    "    def quack(self):\n",
    "        print(\"Quack! Quack!\")\n",
    "\n",
    "# Instantiate a Duck object\n",
    "donald = Duck()\n",
    "\n",
    "# Call all methods\n",
    "donald.fly()\n",
    "donald.swim()\n",
    "donald.quack()\n"
   ]
  },
  {
   "cell_type": "raw",
   "id": "28301138-2712-475b-a7c7-73f2c779d063",
   "metadata": {},
   "source": [
    "Define class `A` with a method `method_A`, and class `E` with a method `method_E`. Create class `B` inheriting from `A` with a method `method_B`, and class `C` inheriting from `A` and `E` with a method `method_C`. Define class `D` inheriting from both `B` and `C` with a method `method_D`. Instantiate a `D` object and call all its methods."
   ]
  },
  {
   "cell_type": "code",
   "execution_count": 6,
   "id": "9c31b89a-49a7-498c-a87e-72f9152efbaf",
   "metadata": {},
   "outputs": [
    {
     "name": "stdout",
     "output_type": "stream",
     "text": [
      "Method A\n",
      "Method E\n",
      "Method B\n",
      "Method C\n",
      "Method D\n"
     ]
    }
   ],
   "source": [
    "# Class A\n",
    "class A:\n",
    "    def method_A(self):\n",
    "        print(\"Method A\")\n",
    "\n",
    "# Class E\n",
    "class E:\n",
    "    def method_E(self):\n",
    "        print(\"Method E\")\n",
    "\n",
    "# Class B inherits from A\n",
    "class B(A):\n",
    "    def method_B(self):\n",
    "        print(\"Method B\")\n",
    "\n",
    "# Class C inherits from A and E\n",
    "class C(A, E):\n",
    "    def method_C(self):\n",
    "        print(\"Method C\")\n",
    "\n",
    "# Class D inherits from B and C\n",
    "class D(B, C):\n",
    "    def method_D(self):\n",
    "        print(\"Method D\")\n",
    "\n",
    "# Instantiate D and call all methods\n",
    "obj = D()\n",
    "obj.method_A()\n",
    "obj.method_E()\n",
    "obj.method_B()\n",
    "obj.method_C()\n",
    "obj.method_D()\n"
   ]
  },
  {
   "cell_type": "code",
   "execution_count": null,
   "id": "db91e03c-d876-4222-849b-59d9aad3a06c",
   "metadata": {},
   "outputs": [],
   "source": []
  },
  {
   "cell_type": "code",
   "execution_count": null,
   "id": "78493f8c-7ccf-43d0-964e-0235f7a6315f",
   "metadata": {},
   "outputs": [],
   "source": []
  },
  {
   "cell_type": "code",
   "execution_count": null,
   "id": "3580c209-1597-4693-9533-e2e46331d12d",
   "metadata": {},
   "outputs": [],
   "source": []
  },
  {
   "cell_type": "code",
   "execution_count": null,
   "id": "ba24cb5b-7392-4fda-b15d-465fa968f399",
   "metadata": {},
   "outputs": [],
   "source": []
  },
  {
   "cell_type": "code",
   "execution_count": null,
   "id": "3123a3c1-3a00-4376-a915-741f6ff69c88",
   "metadata": {},
   "outputs": [],
   "source": []
  },
  {
   "cell_type": "code",
   "execution_count": null,
   "id": "f73921c3-dc92-40e9-a3ad-db87b887067c",
   "metadata": {},
   "outputs": [],
   "source": []
  },
  {
   "cell_type": "code",
   "execution_count": null,
   "id": "67e2b03e-c436-4755-9588-9b41bf4b1b6e",
   "metadata": {},
   "outputs": [],
   "source": []
  },
  {
   "cell_type": "code",
   "execution_count": null,
   "id": "3cfa03fe-d1c6-4f2b-b38d-37f246468ae1",
   "metadata": {},
   "outputs": [],
   "source": []
  },
  {
   "cell_type": "code",
   "execution_count": null,
   "id": "7ea58335-85fb-44f6-9dd1-20e1974a41f4",
   "metadata": {},
   "outputs": [],
   "source": []
  },
  {
   "cell_type": "code",
   "execution_count": null,
   "id": "4e2629df-e05d-404a-91a8-b6ba8cdd529c",
   "metadata": {},
   "outputs": [],
   "source": []
  },
  {
   "cell_type": "code",
   "execution_count": null,
   "id": "275eb0bd-306d-4a3a-bb81-9ec79ae524b5",
   "metadata": {},
   "outputs": [],
   "source": []
  },
  {
   "cell_type": "code",
   "execution_count": null,
   "id": "b600308e-b636-4e58-bbae-6a673b050cc2",
   "metadata": {},
   "outputs": [],
   "source": []
  },
  {
   "cell_type": "code",
   "execution_count": null,
   "id": "333b5672-9e39-4716-b539-648c1cae7a9f",
   "metadata": {},
   "outputs": [],
   "source": []
  },
  {
   "cell_type": "code",
   "execution_count": null,
   "id": "f70fc45f-6eb3-4ae3-8b33-680338d1a56b",
   "metadata": {},
   "outputs": [],
   "source": []
  }
 ],
 "metadata": {
  "kernelspec": {
   "display_name": "Python 3 (ipykernel)",
   "language": "python",
   "name": "python3"
  },
  "language_info": {
   "codemirror_mode": {
    "name": "ipython",
    "version": 3
   },
   "file_extension": ".py",
   "mimetype": "text/x-python",
   "name": "python",
   "nbconvert_exporter": "python",
   "pygments_lexer": "ipython3",
   "version": "3.12.7"
  }
 },
 "nbformat": 4,
 "nbformat_minor": 5
}
