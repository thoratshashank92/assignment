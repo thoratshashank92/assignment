{
 "cells": [
  {
   "cell_type": "markdown",
   "id": "aeff35a3-7e88-4d2b-b3cc-16a5ea6d5f30",
   "metadata": {},
   "source": [
    "## Date Module Operations"
   ]
  },
  {
   "cell_type": "raw",
   "id": "d51f1488-e5a2-4ae5-9881-aef6051005ea",
   "metadata": {},
   "source": [
    "Display the current date and time."
   ]
  },
  {
   "cell_type": "code",
   "execution_count": 3,
   "id": "9a763635-196e-4654-9652-6eacc9e2b146",
   "metadata": {},
   "outputs": [],
   "source": [
    "import datetime"
   ]
  },
  {
   "cell_type": "code",
   "execution_count": 2,
   "id": "f916c826-243d-4e9a-ad0b-9e146439161b",
   "metadata": {},
   "outputs": [
    {
     "name": "stdout",
     "output_type": "stream",
     "text": [
      "2025-07-24 12:56:44.535249\n"
     ]
    }
   ],
   "source": [
    "x = datetime.datetime.now()\n",
    "print(x)"
   ]
  },
  {
   "cell_type": "code",
   "execution_count": 14,
   "id": "09785f9d-3b7a-4c85-868e-610fc3e33105",
   "metadata": {},
   "outputs": [
    {
     "name": "stdout",
     "output_type": "stream",
     "text": [
      "2020-05-17 00:00:00\n",
      "May\n"
     ]
    }
   ],
   "source": [
    "import datetime\n",
    "\n",
    "x = datetime.datetime(2020, 5, 17)\n",
    "\n",
    "print(x) \n",
    "print(x.strftime(\"%B\"))\n",
    "#%A for the weekday name or %Y for the year .strftime(\"%A, %B %d, %D, %Y\")"
   ]
  },
  {
   "cell_type": "raw",
   "id": "4f00fd47-d87a-487b-a01f-e84064bdfb97",
   "metadata": {},
   "source": [
    "Create a date object for `July 4, 2022`, and print it."
   ]
  },
  {
   "cell_type": "code",
   "execution_count": 16,
   "id": "737beb17-5788-4f53-9a11-808df7809128",
   "metadata": {},
   "outputs": [
    {
     "name": "stdout",
     "output_type": "stream",
     "text": [
      "Monday, July, 04, 2022\n"
     ]
    }
   ],
   "source": [
    "x = datetime.datetime(2022, 7, 4)\n",
    "print(x.strftime(\"%A, %B, %d, %Y\"))"
   ]
  },
  {
   "cell_type": "raw",
   "id": "055ba9fc-47b2-476a-ade9-966aeda9cda7",
   "metadata": {},
   "source": [
    " Extract and display the name of the month from the date object `December 15, 2021`."
   ]
  },
  {
   "cell_type": "code",
   "execution_count": 20,
   "id": "ee51ec26-190a-4b73-8671-f9820be7c84d",
   "metadata": {},
   "outputs": [
    {
     "name": "stdout",
     "output_type": "stream",
     "text": [
      "December\n",
      "Welcome to December\n"
     ]
    }
   ],
   "source": [
    "holiday = datetime.date(2021, 12, 15)\n",
    "print(holiday.strftime(\"%B\")) \n",
    "print(\"Welcome to\", holiday.strftime('%B'))"
   ]
  },
  {
   "cell_type": "markdown",
   "id": "258daabb-8aa2-4c2f-8340-aff0710a2e3f",
   "metadata": {},
   "source": [
    "# Math Module"
   ]
  },
  {
   "cell_type": "raw",
   "id": "2eaba05c-0649-46e3-a845-f00963a6f7a9",
   "metadata": {},
   "source": [
    "Compute and print the square root of `81`."
   ]
  },
  {
   "cell_type": "code",
   "execution_count": 23,
   "id": "3aa5f631-fc97-498e-ae9b-9650414f3915",
   "metadata": {},
   "outputs": [],
   "source": [
    "import math"
   ]
  },
  {
   "cell_type": "code",
   "execution_count": 24,
   "id": "56fe7075-e755-49c3-975a-17b7b121bd57",
   "metadata": {},
   "outputs": [
    {
     "name": "stdout",
     "output_type": "stream",
     "text": [
      "9.0\n"
     ]
    }
   ],
   "source": [
    "import math\n",
    "\n",
    "x = math.sqrt(81)\n",
    "\n",
    "print(x) "
   ]
  },
  {
   "cell_type": "code",
   "execution_count": null,
   "id": "522b6188-fe9c-405d-9032-fd29f9581918",
   "metadata": {},
   "outputs": [],
   "source": [
    "Find and display the ceiling and floor values of `8.3`."
   ]
  },
  {
   "cell_type": "code",
   "execution_count": 25,
   "id": "0d28a593-88a2-46b3-819f-27cab4a4ca63",
   "metadata": {},
   "outputs": [
    {
     "name": "stdout",
     "output_type": "stream",
     "text": [
      "9\n",
      "8\n"
     ]
    }
   ],
   "source": [
    "x = math.ceil(8.3)\n",
    "y = math.floor(8.3)\n",
    "\n",
    "print(x) # returns 9\n",
    "print(y) # returns 8"
   ]
  },
  {
   "cell_type": "code",
   "execution_count": null,
   "id": "f88bb641-78d8-431b-9df7-9329015d8757",
   "metadata": {},
   "outputs": [],
   "source": [
    "Calculate and print `2` raised to the power of `5`"
   ]
  },
  {
   "cell_type": "code",
   "execution_count": 28,
   "id": "942eabb7-309b-46ab-8f75-02c3162eb657",
   "metadata": {},
   "outputs": [
    {
     "data": {
      "text/plain": [
       "32"
      ]
     },
     "execution_count": 28,
     "metadata": {},
     "output_type": "execute_result"
    }
   ],
   "source": [
    "pow(2, 5)"
   ]
  },
  {
   "cell_type": "code",
   "execution_count": null,
   "id": "4296f23b-416b-42b0-9f20-47bcbd6b0b3f",
   "metadata": {},
   "outputs": [],
   "source": [
    ". Print the value of π (pi) from the `math` module."
   ]
  },
  {
   "cell_type": "code",
   "execution_count": 29,
   "id": "66e0e0b9-ef31-40c3-8e51-3333217aee5b",
   "metadata": {},
   "outputs": [
    {
     "name": "stdout",
     "output_type": "stream",
     "text": [
      "3.141592653589793\n"
     ]
    }
   ],
   "source": [
    "import math\n",
    "\n",
    "print(math.pi)  # Output: 3.141592653589793\n"
   ]
  },
  {
   "cell_type": "markdown",
   "id": "74606137-5cf3-456c-88a0-933b3f63486f",
   "metadata": {},
   "source": [
    "# polymorphism"
   ]
  },
  {
   "cell_type": "raw",
   "id": "2b855509-a4ec-430e-8219-a4349b4d9955",
   "metadata": {},
   "source": [
    "Using the `len()` function on a string (`\"Python\"`), a tuple (`(1, 2, 3)`), and a dictionary (`{\"name\": \"John\", \"age\": 30}`) and print their lengths."
   ]
  },
  {
   "cell_type": "code",
   "execution_count": 33,
   "id": "a01d89ef-fcf5-46ca-bc60-76d1ba2f661d",
   "metadata": {},
   "outputs": [
    {
     "name": "stdout",
     "output_type": "stream",
     "text": [
      "6\n",
      "3\n",
      "2\n"
     ]
    }
   ],
   "source": [
    "\n",
    "print(len(\"Python\")) \n",
    "\n",
    "print(len((1, 2, 3)))\n",
    "\n",
    "print(len({\"name\": \"John\", \"age\": 30}))  \n",
    "\n",
    "#/Polymorphism in programming means “many forms.” It’s the ability of different classes to respond to the same method name in their own way.\n",
    "Method Overriding: Subclasses define their own version of a method from the parent class./#"
   ]
  },
  {
   "cell_type": "raw",
   "id": "557e6df1-38d1-46f1-b42f-2af0ad2be372",
   "metadata": {},
   "source": [
    "Define three classes: `Dog`, `Cat`, and `Bird`. Each class should have a `speak` method that prints a unique sound. Create an instance of each class and use a loop to call their `speak` methods."
   ]
  },
  {
   "cell_type": "code",
   "execution_count": 4,
   "id": "d7ec3457-95d2-461c-b7ed-b507c60f3cca",
   "metadata": {},
   "outputs": [
    {
     "name": "stdout",
     "output_type": "stream",
     "text": [
      "bark\n",
      "Purrs\n",
      "twittering\n"
     ]
    }
   ],
   "source": [
    "class Dog:\n",
    "    def speak(self):\n",
    "        print(\"bark\")\n",
    "\n",
    "class Cat:\n",
    "    def speak(self):\n",
    "        print(\"Purrs\")\n",
    "\n",
    "class Bird:\n",
    "    def speak(self):\n",
    "        print(\"twittering\")\n",
    "\n",
    "dog = Dog()\n",
    "cat = Cat()\n",
    "bird = Bird()\n",
    "\n",
    "animals = [dog, cat, bird]\n",
    "for animal in animals:\n",
    "    animal.speak()"
   ]
  },
  {
   "cell_type": "markdown",
   "id": "6eb03953-977d-4ce2-812b-9111415fb3c8",
   "metadata": {},
   "source": [
    "# File Handling: Creation, Reading, and Appending"
   ]
  },
  {
   "cell_type": "raw",
   "id": "8430a32e-04ce-44bb-bdae-541d1442d59d",
   "metadata": {},
   "source": [
    "Create a file named `notes.txt` and write `\"First Line\"` into it."
   ]
  },
  {
   "cell_type": "code",
   "execution_count": 25,
   "id": "eee23e9b-d7cb-4e40-9e59-083ba8502acf",
   "metadata": {},
   "outputs": [],
   "source": [
    "f = open(\"notes.txt\", \"w\")\n",
    "f.write(\"First line\")\n",
    "f.close()"
   ]
  },
  {
   "cell_type": "raw",
   "id": "1c199f01-d75a-4ed0-99e0-e790ba01d864",
   "metadata": {},
   "source": [
    "Open `notes.txt` and read its contents. Print the content to the console."
   ]
  },
  {
   "cell_type": "code",
   "execution_count": 26,
   "id": "27a110a9-8871-4248-9dd8-483c73c29451",
   "metadata": {},
   "outputs": [
    {
     "name": "stdout",
     "output_type": "stream",
     "text": [
      "First line\n"
     ]
    }
   ],
   "source": [
    "f = open(\"notes.txt\", \"r\")\n",
    "print (f.read())"
   ]
  },
  {
   "cell_type": "raw",
   "id": "5c39770d-767b-490b-855c-ee7b9a4ba600",
   "metadata": {},
   "source": [
    " Append `\"Second Line\"` to `notes.txt`."
   ]
  },
  {
   "cell_type": "code",
   "execution_count": 27,
   "id": "cb834baa-6b22-4709-8238-eeb6e3355306",
   "metadata": {},
   "outputs": [],
   "source": [
    "f = open(\"notes.txt\", \"a\")\n",
    "f.write(\"  second line\")\n",
    "f.close()"
   ]
  },
  {
   "cell_type": "raw",
   "id": "7b1a24f1-4501-44b0-9f9d-5484d09c9bd5",
   "metadata": {},
   "source": [
    "Open and read the updated contents of `notes.txt`, and print the results."
   ]
  },
  {
   "cell_type": "code",
   "execution_count": 28,
   "id": "744a33a5-f6c5-43fc-bd6d-0c41addf9a0c",
   "metadata": {},
   "outputs": [
    {
     "name": "stdout",
     "output_type": "stream",
     "text": [
      "First line  second line\n"
     ]
    }
   ],
   "source": [
    "f = open(\"notes.txt\", \"r\")\n",
    "print (f.read())"
   ]
  },
  {
   "cell_type": "raw",
   "id": "c222e3cc-18cf-4813-b7f8-20da6cea59f5",
   "metadata": {},
   "source": [
    "Check if a file named `testfile.txt` exists in the current directory. If it does, delete the file and print `\"File deleted.\"`.\n",
    "\n",
    "      2. If `testfile.txt` does not exist, print `\"File does not exist.\"`."
   ]
  },
  {
   "cell_type": "code",
   "execution_count": 29,
   "id": "a4e3edea-0001-40ed-a741-67048dcd1413",
   "metadata": {},
   "outputs": [
    {
     "ename": "FileNotFoundError",
     "evalue": "[WinError 2] The system cannot find the file specified: 'demo1.txt'",
     "output_type": "error",
     "traceback": [
      "\u001b[1;31m---------------------------------------------------------------------------\u001b[0m",
      "\u001b[1;31mFileNotFoundError\u001b[0m                         Traceback (most recent call last)",
      "Cell \u001b[1;32mIn[29], line 2\u001b[0m\n\u001b[0;32m      1\u001b[0m \u001b[38;5;28;01mimport\u001b[39;00m \u001b[38;5;21;01mos\u001b[39;00m\n\u001b[1;32m----> 2\u001b[0m os\u001b[38;5;241m.\u001b[39mremove(\u001b[38;5;124m\"\u001b[39m\u001b[38;5;124mdemo1.txt\u001b[39m\u001b[38;5;124m\"\u001b[39m)\n",
      "\u001b[1;31mFileNotFoundError\u001b[0m: [WinError 2] The system cannot find the file specified: 'demo1.txt'"
     ]
    }
   ],
   "source": [
    "import os\n",
    "os.remove(\"testfile.txt\") "
   ]
  },
  {
   "cell_type": "code",
   "execution_count": 33,
   "id": "a7c96474-0d61-4ddc-9a8e-ccfde9967cd7",
   "metadata": {},
   "outputs": [
    {
     "name": "stdout",
     "output_type": "stream",
     "text": [
      "The file does not exist\n"
     ]
    }
   ],
   "source": [
    "import os\n",
    "if os.path.exists(\"testfile.txt\"):\n",
    "    os.remove(\"testfile.txt\")\n",
    "else:\n",
    "    print(\"The file does not exist\")"
   ]
  },
  {
   "cell_type": "code",
   "execution_count": null,
   "id": "6835820e-e5c0-4de4-9b18-2465349ac9fa",
   "metadata": {},
   "outputs": [],
   "source": []
  }
 ],
 "metadata": {
  "kernelspec": {
   "display_name": "Python 3 (ipykernel)",
   "language": "python",
   "name": "python3"
  },
  "language_info": {
   "codemirror_mode": {
    "name": "ipython",
    "version": 3
   },
   "file_extension": ".py",
   "mimetype": "text/x-python",
   "name": "python",
   "nbconvert_exporter": "python",
   "pygments_lexer": "ipython3",
   "version": "3.12.7"
  }
 },
 "nbformat": 4,
 "nbformat_minor": 5
}
