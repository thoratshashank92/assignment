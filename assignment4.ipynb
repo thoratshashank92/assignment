{
 "cells": [
  {
   "cell_type": "markdown",
   "id": "5e830f1f-4945-4c35-a726-1a15bf4bb190",
   "metadata": {},
   "source": [
    "Write an if statement to compare two variables, a and b. If b is greater than a, print a message saying \"b is greater than a\"."
   ]
  },
  {
   "cell_type": "code",
   "execution_count": 13,
   "id": "3bfd8aa1-320d-4a44-86e1-05bd13ff0717",
   "metadata": {},
   "outputs": [
    {
     "name": "stdout",
     "output_type": "stream",
     "text": [
      "a is greater\n"
     ]
    }
   ],
   "source": [
    "a = 27\n",
    "b = 20\n",
    "if a > b:\n",
    "    print(\"a is greater\")\n",
    "else:\n",
    "    print(\"b is greater\")"
   ]
  },
  {
   "cell_type": "markdown",
   "id": "c9b3ad10-8647-4133-891f-5eaa1bb2708d",
   "metadata": {},
   "source": [
    "Write an if-else statement to compare two variables, a and b. If b is greater than a, print \"b is greater than a\". Otherwise, print \"a and b are equal\"."
   ]
  },
  {
   "cell_type": "code",
   "execution_count": 30,
   "id": "c34b7b28-c705-49e2-ad3f-9f1f6a2f96f9",
   "metadata": {},
   "outputs": [
    {
     "name": "stdout",
     "output_type": "stream",
     "text": [
      "b is greater than a\n"
     ]
    }
   ],
   "source": [
    "a = 20\n",
    "b = 27\n",
    "if a < b:\n",
    "    print(\"b is greater than a\")\n",
    "else:\n",
    "    print(\"a and b are equal\")"
   ]
  },
  {
   "cell_type": "markdown",
   "id": "831ef7ff-d7fc-43e7-9d8c-cf1346b90ba8",
   "metadata": {},
   "source": [
    "Write an if-elif-else statement to compare two variables, a and b. If b is greater than a, print \"b is greater than a\". If a and b are equal, print \"a and b are equal\". Otherwise, print \"a is greater than b\"."
   ]
  },
  {
   "cell_type": "code",
   "execution_count": 31,
   "id": "bb8fa4f5-10f4-4412-8362-c205a91f8a99",
   "metadata": {},
   "outputs": [
    {
     "name": "stdout",
     "output_type": "stream",
     "text": [
      "b is greater\n"
     ]
    }
   ],
   "source": [
    "a = 20\n",
    "b = 27\n",
    "if a > b:\n",
    "    print(\"a is greater\")\n",
    "elif a < b:\n",
    "    print(\"b is greater\")\n",
    "else:\n",
    "    print(\"a and b are equal\")"
   ]
  },
  {
   "cell_type": "code",
   "execution_count": null,
   "id": "20dd89f9-175d-4056-a7fb-8a0d4e4f3c21",
   "metadata": {},
   "outputs": [],
   "source": []
  },
  {
   "cell_type": "code",
   "execution_count": null,
   "id": "e78b4ead-1b26-471d-948d-fc9acb314899",
   "metadata": {},
   "outputs": [],
   "source": []
  },
  {
   "cell_type": "markdown",
   "id": "8d9b9367-2855-49e8-a1f5-2b912e975999",
   "metadata": {},
   "source": [
    "Create a tuple with the elements (\"apple\", \"banana\", \"cherry\"). Access and print the second element of the tuple."
   ]
  },
  {
   "cell_type": "code",
   "execution_count": 33,
   "id": "adbfd61e-2c65-457b-8b33-ff1e4ad14626",
   "metadata": {},
   "outputs": [
    {
     "name": "stdout",
     "output_type": "stream",
     "text": [
      "('apple', 'banana', 'cherry')\n"
     ]
    }
   ],
   "source": [
    "tuple = (\"apple\", \"banana\", \"cherry\")\n",
    "print(tuple)"
   ]
  },
  {
   "cell_type": "code",
   "execution_count": 35,
   "id": "2f65cd26-d409-414f-ad39-d158e361b65a",
   "metadata": {},
   "outputs": [
    {
     "data": {
      "text/plain": [
       "tuple"
      ]
     },
     "execution_count": 35,
     "metadata": {},
     "output_type": "execute_result"
    }
   ],
   "source": [
    "(type(tuple))"
   ]
  },
  {
   "cell_type": "code",
   "execution_count": null,
   "id": "6a50bdae-a85e-43b1-bc93-e0c2a553b9bd",
   "metadata": {},
   "outputs": [],
   "source": []
  },
  {
   "cell_type": "markdown",
   "id": "bf5ea18c-8722-4dce-b8b9-311c5e095270",
   "metadata": {},
   "source": [
    "Create a tuple with a single item \"apple\". Print the type of the tuple to confirm it's a tuple."
   ]
  },
  {
   "cell_type": "code",
   "execution_count": 43,
   "id": "61763e89-57d8-4a6a-9aed-b5b8043b9fe3",
   "metadata": {},
   "outputs": [
    {
     "name": "stdout",
     "output_type": "stream",
     "text": [
      "<class 'tuple'>\n",
      "<class 'str'>\n"
     ]
    }
   ],
   "source": [
    "my_tuple = (\"apple\",)\n",
    "print(type(my_tuple))\n",
    "\n",
    "#not a tuple\n",
    "my_tuple = (\"apple\")\n",
    "print(type(my_tuple)) "
   ]
  },
  {
   "cell_type": "code",
   "execution_count": null,
   "id": "5cd08337-c428-40fe-9232-c1872e8ae716",
   "metadata": {},
   "outputs": [],
   "source": []
  },
  {
   "cell_type": "markdown",
   "id": "3f18698d-0a8b-4320-80f8-c0354d87cfdf",
   "metadata": {},
   "source": [
    "Create a tuple with the elements (\"apple\", \"banana\", \"cherry\"). Check if the item \"apple\" exists in the tuple and print the result."
   ]
  },
  {
   "cell_type": "code",
   "execution_count": 44,
   "id": "cab4ec5e-6a74-4084-9739-029c5fa6b160",
   "metadata": {},
   "outputs": [
    {
     "name": "stdout",
     "output_type": "stream",
     "text": [
      "Yes, 'apple' is in the fruits tuple\n"
     ]
    }
   ],
   "source": [
    "thistuple = (\"apple\", \"banana\", \"cherry\")\n",
    "if \"apple\" in thistuple:\n",
    "    print(\"Yes, 'apple' is in the fruits tuple\") "
   ]
  },
  {
   "cell_type": "code",
   "execution_count": null,
   "id": "e92e1ea0-9526-42dc-ad01-33a7fc19f1e0",
   "metadata": {},
   "outputs": [],
   "source": []
  },
  {
   "cell_type": "code",
   "execution_count": null,
   "id": "cb9a7af5-2cbf-4526-a55e-0a8099d1c3e9",
   "metadata": {},
   "outputs": [],
   "source": []
  },
  {
   "cell_type": "markdown",
   "id": "35d5b2e9-3c63-4dbb-ba9c-f89ce1c5529f",
   "metadata": {},
   "source": [
    "Convert a tuple (\"apple\", \"banana\", \"cherry\") to a list. Change the second item to \"kiwi\" and convert it back to a tuple. Print the modified tuple."
   ]
  },
  {
   "cell_type": "code",
   "execution_count": 49,
   "id": "7f2eeb3a-6da0-440b-8a84-1e81e6c33a74",
   "metadata": {},
   "outputs": [],
   "source": [
    "x = (\"apple\", \"banana\", \"cherry\")"
   ]
  },
  {
   "cell_type": "code",
   "execution_count": null,
   "id": "282af540-3e8f-48ef-8ccd-54756e8338b9",
   "metadata": {},
   "outputs": [],
   "source": [
    "x[0] = \"kiwi\""
   ]
  },
  {
   "cell_type": "code",
   "execution_count": 55,
   "id": "0f2cabe9-38da-49a6-841b-5a10f210f2b8",
   "metadata": {},
   "outputs": [
    {
     "ename": "TypeError",
     "evalue": "'tuple' object is not callable",
     "output_type": "error",
     "traceback": [
      "\u001b[1;31m---------------------------------------------------------------------------\u001b[0m",
      "\u001b[1;31mTypeError\u001b[0m                                 Traceback (most recent call last)",
      "Cell \u001b[1;32mIn[55], line 4\u001b[0m\n\u001b[0;32m      2\u001b[0m y \u001b[38;5;241m=\u001b[39m \u001b[38;5;28mlist\u001b[39m(x)\n\u001b[0;32m      3\u001b[0m y[\u001b[38;5;241m1\u001b[39m] \u001b[38;5;241m=\u001b[39m \u001b[38;5;124m\"\u001b[39m\u001b[38;5;124mkiwi\u001b[39m\u001b[38;5;124m\"\u001b[39m\n\u001b[1;32m----> 4\u001b[0m x \u001b[38;5;241m=\u001b[39m \u001b[38;5;28mtuple\u001b[39m(y)\n\u001b[0;32m      6\u001b[0m \u001b[38;5;28mprint\u001b[39m(x)\n",
      "\u001b[1;31mTypeError\u001b[0m: 'tuple' object is not callable"
     ]
    }
   ],
   "source": [
    "x = (\"apple\", \"banana\", \"cherry\")\n",
    "y = list(x)\n",
    "y[1] = \"kiwi\"\n",
    "x = tuple(y)\n",
    "\n",
    "print(x) "
   ]
  },
  {
   "cell_type": "markdown",
   "id": "963df160-de2c-477f-8af1-a7d5c2c9cb04",
   "metadata": {},
   "source": [
    "Create a set with the elements {\"apple\", \"banana\", \"cherry\"}. Add \"orange\" to the set and remove \"banana\". Print the modified set."
   ]
  },
  {
   "cell_type": "code",
   "execution_count": 56,
   "id": "38c3c798-9bd2-46bb-9267-707a719924e8",
   "metadata": {},
   "outputs": [
    {
     "name": "stdout",
     "output_type": "stream",
     "text": [
      "{'orange', 'cherry', 'apple'}\n"
     ]
    }
   ],
   "source": [
    "thisset = {\"apple\", \"banana\", \"cherry\"}\n",
    "\n",
    "thisset.add(\"orange\")\n",
    "thisset.remove(\"banana\")\n",
    "\n",
    "print(thisset) "
   ]
  },
  {
   "cell_type": "markdown",
   "id": "883e5123-f60d-45a5-9833-c88dec4e7a88",
   "metadata": {},
   "source": [
    "Create a tuple with the elements (\"apple\", \"banana\", \"cherry\"). Use a for loop to print each item in the tuple."
   ]
  },
  {
   "cell_type": "code",
   "execution_count": 57,
   "id": "dd5f4ebf-7cd7-4441-b73e-bac9967e4817",
   "metadata": {},
   "outputs": [
    {
     "name": "stdout",
     "output_type": "stream",
     "text": [
      "banana\n",
      "cherry\n",
      "apple\n"
     ]
    }
   ],
   "source": [
    "thisset = {\"apple\", \"banana\", \"cherry\"}\n",
    "\n",
    "for x in thisset:\n",
    "    print(x)"
   ]
  },
  {
   "cell_type": "raw",
   "id": "75e4ce45-c816-48e4-bb16-5e59157fcbfc",
   "metadata": {},
   "source": [
    "Create a set with the elements {\"apple\", \"banana\", \"cherry\"}. Update it with another set {\"pineapple\", \"mango\", \"papaya\"} and a list [\"kiwi\", \"orange\"]. Print the updated set."
   ]
  },
  {
   "cell_type": "code",
   "execution_count": 4,
   "id": "9b2ba7ca-268f-4167-b296-5619e5782209",
   "metadata": {},
   "outputs": [
    {
     "name": "stdout",
     "output_type": "stream",
     "text": [
      "{'pineapple', 'orange', 'apple', 'mango', 'papaya', 'kiwi', 'banana', 'cherry'}\n"
     ]
    }
   ],
   "source": [
    "thisset = {\"apple\", \"banana\", \"cherry\"}\n",
    "tropical = {\"pineapple\", \"mango\", \"papaya\"}\n",
    "mylist = [\"kiwi\", \"orange\"]\n",
    "\n",
    "thisset.update(tropical)\n",
    "thisset.update(mylist)\n",
    "print (thisset)"
   ]
  },
  {
   "cell_type": "code",
   "execution_count": null,
   "id": "e3a2a039-421c-427a-a3b7-27ba22d29f7a",
   "metadata": {},
   "outputs": [],
   "source": []
  },
  {
   "cell_type": "code",
   "execution_count": null,
   "id": "848a5e55-6e61-4bff-b9cc-cb5665daa332",
   "metadata": {},
   "outputs": [],
   "source": []
  },
  {
   "cell_type": "code",
   "execution_count": null,
   "id": "e654a5c8-84ed-46ce-8731-4fc2917722e8",
   "metadata": {},
   "outputs": [],
   "source": []
  },
  {
   "cell_type": "code",
   "execution_count": null,
   "id": "619d0fc1-5458-45e8-be1e-65f9953ea596",
   "metadata": {},
   "outputs": [],
   "source": []
  }
 ],
 "metadata": {
  "kernelspec": {
   "display_name": "Python 3 (ipykernel)",
   "language": "python",
   "name": "python3"
  },
  "language_info": {
   "codemirror_mode": {
    "name": "ipython",
    "version": 3
   },
   "file_extension": ".py",
   "mimetype": "text/x-python",
   "name": "python",
   "nbconvert_exporter": "python",
   "pygments_lexer": "ipython3",
   "version": "3.12.7"
  }
 },
 "nbformat": 4,
 "nbformat_minor": 5
}
