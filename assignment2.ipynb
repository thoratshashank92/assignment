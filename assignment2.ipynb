{
 "cells": [
  {
   "cell_type": "code",
   "execution_count": 6,
   "id": "4f1dcc65-73e5-42c2-9f09-6b2906850082",
   "metadata": {},
   "outputs": [
    {
     "name": "stdout",
     "output_type": "stream",
     "text": [
      "HelloWorld\n"
     ]
    }
   ],
   "source": [
    "a = \"Hello\"\n",
    "b = \"World\"\n",
    "c = a + b\n",
    "print(c)"
   ]
  },
  {
   "cell_type": "code",
   "execution_count": 8,
   "id": "a5e41895-341b-4de2-8966-3fc38267b85a",
   "metadata": {},
   "outputs": [
    {
     "name": "stdout",
     "output_type": "stream",
     "text": [
      "shashank thorat\n"
     ]
    }
   ],
   "source": [
    "firstname = \"shashank\"\n",
    "lastname = \" thorat\"\n",
    "fullname = firstname + lastname\n",
    "print(fullname)"
   ]
  },
  {
   "cell_type": "code",
   "execution_count": 12,
   "id": "3a08429a-551a-443c-910c-38eef61c378a",
   "metadata": {},
   "outputs": [
    {
     "data": {
      "text/plain": [
       "'shashank thorat'"
      ]
     },
     "execution_count": 12,
     "metadata": {},
     "output_type": "execute_result"
    }
   ],
   "source": [
    "fullname"
   ]
  },
  {
   "cell_type": "code",
   "execution_count": 14,
   "id": "e257a920-9d9c-430d-a055-7a808d0325f1",
   "metadata": {},
   "outputs": [
    {
     "name": "stdout",
     "output_type": "stream",
     "text": [
      "shashank\n"
     ]
    }
   ],
   "source": [
    "firstname = fullname[0:8]\n",
    "print(firstname)"
   ]
  },
  {
   "cell_type": "code",
   "execution_count": 19,
   "id": "44981ef8-9801-441f-98da-0dda23dfac56",
   "metadata": {},
   "outputs": [
    {
     "name": "stdout",
     "output_type": "stream",
     "text": [
      "['maharashtra', 'bihar', 'aasam']\n"
     ]
    }
   ],
   "source": [
    "a = [\"maharashtra\", \"bihar\", \"aasam\"]\n",
    "print(a)"
   ]
  },
  {
   "cell_type": "code",
   "execution_count": 25,
   "id": "ea8e00fc-8a72-4bb4-90c2-22128446d220",
   "metadata": {},
   "outputs": [
    {
     "name": "stdout",
     "output_type": "stream",
     "text": [
      "['gujrat', 'goa', 'rajsthan']\n"
     ]
    }
   ],
   "source": [
    "b=list((\"gujrat\", \"goa\", \"rajsthan\"))\n",
    "print(b)"
   ]
  },
  {
   "cell_type": "code",
   "execution_count": 27,
   "id": "2466cca1-541e-40bb-b1e6-ed51eb8096c1",
   "metadata": {},
   "outputs": [
    {
     "name": "stdout",
     "output_type": "stream",
     "text": [
      "maharashtra\n",
      "bihar\n",
      "aasam\n"
     ]
    }
   ],
   "source": [
    "for state in a:\n",
    "    print(state)"
   ]
  },
  {
   "cell_type": "code",
   "execution_count": 28,
   "id": "136187d1-4542-486d-9e7f-a82510d58a19",
   "metadata": {},
   "outputs": [
    {
     "name": "stdout",
     "output_type": "stream",
     "text": [
      "['maharashtra', 'bihar', 'aasam', 'gujrat', 'goa', 'rajsthan']\n"
     ]
    }
   ],
   "source": [
    "c = a + b\n",
    "print(c)"
   ]
  },
  {
   "cell_type": "code",
   "execution_count": null,
   "id": "8d7a47d1-4e82-4216-be35-3d7b6f1ac77e",
   "metadata": {},
   "outputs": [],
   "source": []
  },
  {
   "cell_type": "code",
   "execution_count": null,
   "id": "e3b57a01-9c34-46c9-9c06-4fdb6219a3a3",
   "metadata": {},
   "outputs": [],
   "source": []
  },
  {
   "cell_type": "code",
   "execution_count": null,
   "id": "496c4133-c36d-4690-88f8-6e5ececf3f1f",
   "metadata": {},
   "outputs": [],
   "source": []
  },
  {
   "cell_type": "code",
   "execution_count": null,
   "id": "c9317b0f-c865-4bb2-83c3-0340faeb720d",
   "metadata": {},
   "outputs": [],
   "source": []
  }
 ],
 "metadata": {
  "kernelspec": {
   "display_name": "Python 3 (ipykernel)",
   "language": "python",
   "name": "python3"
  },
  "language_info": {
   "codemirror_mode": {
    "name": "ipython",
    "version": 3
   },
   "file_extension": ".py",
   "mimetype": "text/x-python",
   "name": "python",
   "nbconvert_exporter": "python",
   "pygments_lexer": "ipython3",
   "version": "3.12.7"
  }
 },
 "nbformat": 4,
 "nbformat_minor": 5
}
